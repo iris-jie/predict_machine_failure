{
  "cells": [
    {
      "attachments": {},
      "cell_type": "markdown",
      "metadata": {
        "id": "vClwmQGRFSAA"
      },
      "source": [
        "#  Import packages "
      ]
    },
    {
      "cell_type": "code",
      "execution_count": 249,
      "metadata": {
        "id": "uWWkFKeudbag"
      },
      "outputs": [],
      "source": [
        "#Import preprocessing packages\n",
        "import numpy as np \n",
        "import pandas as pd \n",
        "from sklearn import preprocessing\n",
        "import matplotlib.pyplot as plt \n",
        "import seaborn as sns\n",
        "import warnings\n",
        "\n",
        "from imblearn.over_sampling import SMOTE\n",
        "from sklearn.preprocessing import StandardScaler\n",
        "\n",
        "# Import classification packages\n",
        "from sklearn.model_selection import train_test_split\n",
        "\n",
        "from sklearn.linear_model import LogisticRegression\n",
        "from sklearn.tree import DecisionTreeClassifier\n",
        "from sklearn.naive_bayes import GaussianNB\n",
        "from sklearn.svm import SVC\n",
        "from sklearn.neural_network import MLPClassifier\n",
        "from sklearn.ensemble import GradientBoostingClassifier, RandomForestClassifier\n",
        "\n",
        "from sklearn.model_selection import KFold, cross_val_score\n",
        "from sklearn.metrics import classification_report, confusion_matrix, accuracy_score\n"
      ]
    },
    {
      "cell_type": "code",
      "execution_count": 215,
      "metadata": {
        "id": "8NzZBfHP8Dgq"
      },
      "outputs": [],
      "source": [
        "#ingore the warnings\n",
        "warnings.filterwarnings('ignore')"
      ]
    },
    {
      "attachments": {},
      "cell_type": "markdown",
      "metadata": {
        "id": "KFQWcs6BGePd"
      },
      "source": [
        "# Exploratory data analysis"
      ]
    },
    {
      "cell_type": "code",
      "execution_count": 216,
      "metadata": {
        "id": "sY2t_NtehdyS"
      },
      "outputs": [],
      "source": [
        "# Read CSV data file into DataFrame\n",
        "df = pd.read_csv(\"data14.csv\", encoding='ISO-8859-1')"
      ]
    },
    {
      "cell_type": "code",
      "execution_count": 219,
      "metadata": {
        "colab": {
          "base_uri": "https://localhost:8080/"
        },
        "id": "170ceQu-jOFM",
        "outputId": "4b383b25-9072-4f9d-a56a-7bd9d346fc4b"
      },
      "outputs": [
        {
          "data": {
            "text/plain": [
              "(5000, 10)"
            ]
          },
          "execution_count": 219,
          "metadata": {},
          "output_type": "execute_result"
        }
      ],
      "source": [
        "# view dimensions of dataset\n",
        "\n",
        "df.shape\n",
        "\n",
        "#We can see that there are 5000 instances and 10 variables in the data set."
      ]
    },
    {
      "cell_type": "code",
      "execution_count": 218,
      "metadata": {
        "colab": {
          "base_uri": "https://localhost:8080/",
          "height": 206
        },
        "id": "aWHO9REDjVkf",
        "outputId": "3bfb74a6-4aa1-4211-96ab-da5d1675f1c2"
      },
      "outputs": [
        {
          "data": {
            "text/html": [
              "\n",
              "  <div id=\"df-1f75c63a-8722-49e8-8109-c4309e1e7597\">\n",
              "    <div class=\"colab-df-container\">\n",
              "      <div>\n",
              "<style scoped>\n",
              "    .dataframe tbody tr th:only-of-type {\n",
              "        vertical-align: middle;\n",
              "    }\n",
              "\n",
              "    .dataframe tbody tr th {\n",
              "        vertical-align: top;\n",
              "    }\n",
              "\n",
              "    .dataframe thead th {\n",
              "        text-align: right;\n",
              "    }\n",
              "</style>\n",
              "<table border=\"1\" class=\"dataframe\">\n",
              "  <thead>\n",
              "    <tr style=\"text-align: right;\">\n",
              "      <th></th>\n",
              "      <th>Unnamed: 0</th>\n",
              "      <th>ï..UDI</th>\n",
              "      <th>Product.ID</th>\n",
              "      <th>Type</th>\n",
              "      <th>Air.temperature</th>\n",
              "      <th>Process.temperature</th>\n",
              "      <th>Rotational.speed</th>\n",
              "      <th>Torque</th>\n",
              "      <th>Tool.wear</th>\n",
              "      <th>Machine.failure</th>\n",
              "    </tr>\n",
              "  </thead>\n",
              "  <tbody>\n",
              "    <tr>\n",
              "      <th>0</th>\n",
              "      <td>1488</td>\n",
              "      <td>1488</td>\n",
              "      <td>L48667</td>\n",
              "      <td>L</td>\n",
              "      <td>298.2</td>\n",
              "      <td>309.1</td>\n",
              "      <td>1429</td>\n",
              "      <td>48.5</td>\n",
              "      <td>164</td>\n",
              "      <td>0</td>\n",
              "    </tr>\n",
              "    <tr>\n",
              "      <th>1</th>\n",
              "      <td>4756</td>\n",
              "      <td>4756</td>\n",
              "      <td>L51935</td>\n",
              "      <td>L</td>\n",
              "      <td>303.4</td>\n",
              "      <td>311.7</td>\n",
              "      <td>1295</td>\n",
              "      <td>51.3</td>\n",
              "      <td>51</td>\n",
              "      <td>1</td>\n",
              "    </tr>\n",
              "    <tr>\n",
              "      <th>2</th>\n",
              "      <td>6518</td>\n",
              "      <td>6518</td>\n",
              "      <td>L53697</td>\n",
              "      <td>L</td>\n",
              "      <td>301.1</td>\n",
              "      <td>310.1</td>\n",
              "      <td>1540</td>\n",
              "      <td>36.6</td>\n",
              "      <td>28</td>\n",
              "      <td>0</td>\n",
              "    </tr>\n",
              "    <tr>\n",
              "      <th>3</th>\n",
              "      <td>9742</td>\n",
              "      <td>9742</td>\n",
              "      <td>L56921</td>\n",
              "      <td>L</td>\n",
              "      <td>298.9</td>\n",
              "      <td>310.1</td>\n",
              "      <td>1495</td>\n",
              "      <td>42.9</td>\n",
              "      <td>175</td>\n",
              "      <td>0</td>\n",
              "    </tr>\n",
              "    <tr>\n",
              "      <th>4</th>\n",
              "      <td>4787</td>\n",
              "      <td>4787</td>\n",
              "      <td>L51966</td>\n",
              "      <td>L</td>\n",
              "      <td>303.8</td>\n",
              "      <td>312.6</td>\n",
              "      <td>1577</td>\n",
              "      <td>41.3</td>\n",
              "      <td>134</td>\n",
              "      <td>0</td>\n",
              "    </tr>\n",
              "  </tbody>\n",
              "</table>\n",
              "</div>\n",
              "      <button class=\"colab-df-convert\" onclick=\"convertToInteractive('df-1f75c63a-8722-49e8-8109-c4309e1e7597')\"\n",
              "              title=\"Convert this dataframe to an interactive table.\"\n",
              "              style=\"display:none;\">\n",
              "        \n",
              "  <svg xmlns=\"http://www.w3.org/2000/svg\" height=\"24px\"viewBox=\"0 0 24 24\"\n",
              "       width=\"24px\">\n",
              "    <path d=\"M0 0h24v24H0V0z\" fill=\"none\"/>\n",
              "    <path d=\"M18.56 5.44l.94 2.06.94-2.06 2.06-.94-2.06-.94-.94-2.06-.94 2.06-2.06.94zm-11 1L8.5 8.5l.94-2.06 2.06-.94-2.06-.94L8.5 2.5l-.94 2.06-2.06.94zm10 10l.94 2.06.94-2.06 2.06-.94-2.06-.94-.94-2.06-.94 2.06-2.06.94z\"/><path d=\"M17.41 7.96l-1.37-1.37c-.4-.4-.92-.59-1.43-.59-.52 0-1.04.2-1.43.59L10.3 9.45l-7.72 7.72c-.78.78-.78 2.05 0 2.83L4 21.41c.39.39.9.59 1.41.59.51 0 1.02-.2 1.41-.59l7.78-7.78 2.81-2.81c.8-.78.8-2.07 0-2.86zM5.41 20L4 18.59l7.72-7.72 1.47 1.35L5.41 20z\"/>\n",
              "  </svg>\n",
              "      </button>\n",
              "      \n",
              "  <style>\n",
              "    .colab-df-container {\n",
              "      display:flex;\n",
              "      flex-wrap:wrap;\n",
              "      gap: 12px;\n",
              "    }\n",
              "\n",
              "    .colab-df-convert {\n",
              "      background-color: #E8F0FE;\n",
              "      border: none;\n",
              "      border-radius: 50%;\n",
              "      cursor: pointer;\n",
              "      display: none;\n",
              "      fill: #1967D2;\n",
              "      height: 32px;\n",
              "      padding: 0 0 0 0;\n",
              "      width: 32px;\n",
              "    }\n",
              "\n",
              "    .colab-df-convert:hover {\n",
              "      background-color: #E2EBFA;\n",
              "      box-shadow: 0px 1px 2px rgba(60, 64, 67, 0.3), 0px 1px 3px 1px rgba(60, 64, 67, 0.15);\n",
              "      fill: #174EA6;\n",
              "    }\n",
              "\n",
              "    [theme=dark] .colab-df-convert {\n",
              "      background-color: #3B4455;\n",
              "      fill: #D2E3FC;\n",
              "    }\n",
              "\n",
              "    [theme=dark] .colab-df-convert:hover {\n",
              "      background-color: #434B5C;\n",
              "      box-shadow: 0px 1px 3px 1px rgba(0, 0, 0, 0.15);\n",
              "      filter: drop-shadow(0px 1px 2px rgba(0, 0, 0, 0.3));\n",
              "      fill: #FFFFFF;\n",
              "    }\n",
              "  </style>\n",
              "\n",
              "      <script>\n",
              "        const buttonEl =\n",
              "          document.querySelector('#df-1f75c63a-8722-49e8-8109-c4309e1e7597 button.colab-df-convert');\n",
              "        buttonEl.style.display =\n",
              "          google.colab.kernel.accessAllowed ? 'block' : 'none';\n",
              "\n",
              "        async function convertToInteractive(key) {\n",
              "          const element = document.querySelector('#df-1f75c63a-8722-49e8-8109-c4309e1e7597');\n",
              "          const dataTable =\n",
              "            await google.colab.kernel.invokeFunction('convertToInteractive',\n",
              "                                                     [key], {});\n",
              "          if (!dataTable) return;\n",
              "\n",
              "          const docLinkHtml = 'Like what you see? Visit the ' +\n",
              "            '<a target=\"_blank\" href=https://colab.research.google.com/notebooks/data_table.ipynb>data table notebook</a>'\n",
              "            + ' to learn more about interactive tables.';\n",
              "          element.innerHTML = '';\n",
              "          dataTable['output_type'] = 'display_data';\n",
              "          await google.colab.output.renderOutput(dataTable, element);\n",
              "          const docLink = document.createElement('div');\n",
              "          docLink.innerHTML = docLinkHtml;\n",
              "          element.appendChild(docLink);\n",
              "        }\n",
              "      </script>\n",
              "    </div>\n",
              "  </div>\n",
              "  "
            ],
            "text/plain": [
              "   Unnamed: 0  ï..UDI Product.ID Type  Air.temperature  Process.temperature  \\\n",
              "0        1488    1488     L48667    L            298.2                309.1   \n",
              "1        4756    4756     L51935    L            303.4                311.7   \n",
              "2        6518    6518     L53697    L            301.1                310.1   \n",
              "3        9742    9742     L56921    L            298.9                310.1   \n",
              "4        4787    4787     L51966    L            303.8                312.6   \n",
              "\n",
              "   Rotational.speed  Torque  Tool.wear  Machine.failure  \n",
              "0              1429    48.5        164                0  \n",
              "1              1295    51.3         51                1  \n",
              "2              1540    36.6         28                0  \n",
              "3              1495    42.9        175                0  \n",
              "4              1577    41.3        134                0  "
            ]
          },
          "execution_count": 218,
          "metadata": {},
          "output_type": "execute_result"
        }
      ],
      "source": [
        "# preview the dataset\n",
        "\n",
        "df.head()"
      ]
    },
    {
      "cell_type": "code",
      "execution_count": 191,
      "metadata": {
        "colab": {
          "base_uri": "https://localhost:8080/"
        },
        "id": "pxB17O_AjqTQ",
        "outputId": "de45f395-1f5a-4f90-dab8-fda57b578b7e"
      },
      "outputs": [
        {
          "name": "stdout",
          "output_type": "stream",
          "text": [
            "<class 'pandas.core.frame.DataFrame'>\n",
            "RangeIndex: 5000 entries, 0 to 4999\n",
            "Data columns (total 10 columns):\n",
            " #   Column               Non-Null Count  Dtype  \n",
            "---  ------               --------------  -----  \n",
            " 0   Unnamed: 0           5000 non-null   int64  \n",
            " 1   ï..UDI               5000 non-null   int64  \n",
            " 2   Product.ID           5000 non-null   object \n",
            " 3   Type                 5000 non-null   object \n",
            " 4   Air.temperature      5000 non-null   float64\n",
            " 5   Process.temperature  5000 non-null   float64\n",
            " 6   Rotational.speed     5000 non-null   int64  \n",
            " 7   Torque               5000 non-null   float64\n",
            " 8   Tool.wear            5000 non-null   int64  \n",
            " 9   Machine.failure      5000 non-null   int64  \n",
            "dtypes: float64(3), int64(5), object(2)\n",
            "memory usage: 390.8+ KB\n"
          ]
        }
      ],
      "source": [
        "# view summary of dataset\n",
        "\n",
        "df.info()"
      ]
    },
    {
      "attachments": {},
      "cell_type": "markdown",
      "metadata": {
        "id": "Eg0Wo-KikOmZ"
      },
      "source": [
        "### Data preparation - Cleaning step </font>"
      ]
    },
    {
      "cell_type": "code",
      "execution_count": 220,
      "metadata": {
        "id": "cqTkrXkXkRGm"
      },
      "outputs": [],
      "source": [
        "# Remove irrelevant columns\n",
        "df = df.drop([\"Unnamed: 0\",\"Product.ID\",\"ï..UDI\"], axis=1)"
      ]
    },
    {
      "cell_type": "code",
      "execution_count": 222,
      "metadata": {
        "colab": {
          "base_uri": "https://localhost:8080/"
        },
        "id": "1fa9lY7qmu-j",
        "outputId": "e7052173-8f5e-4c5b-9dea-c3217fcc1d77"
      },
      "outputs": [
        {
          "data": {
            "text/plain": [
              "Type                   0\n",
              "Air.temperature        0\n",
              "Process.temperature    0\n",
              "Rotational.speed       0\n",
              "Torque                 0\n",
              "Tool.wear              0\n",
              "Machine.failure        0\n",
              "dtype: int64"
            ]
          },
          "execution_count": 222,
          "metadata": {},
          "output_type": "execute_result"
        }
      ],
      "source": [
        "## check missing values in dataset\n",
        "df.isnull().sum()\n",
        "\n",
        "#There in no missing values in dadaset"
      ]
    },
    {
      "cell_type": "code",
      "execution_count": 223,
      "metadata": {
        "colab": {
          "base_uri": "https://localhost:8080/"
        },
        "id": "hrUXijgUs5gK",
        "outputId": "4a838c8c-de3a-4ad8-e3e3-e4e40c11d8c2"
      },
      "outputs": [
        {
          "name": "stdout",
          "output_type": "stream",
          "text": [
            "There are 1 categorical variables\n",
            "\n",
            "The categorical variables are : ['Type']\n"
          ]
        }
      ],
      "source": [
        "# find categorical variables\n",
        "\n",
        "categorical = [var for var in df.columns if df[var].dtype=='O']\n",
        "\n",
        "print('There are {} categorical variables\\n'.format(len(categorical)))\n",
        "\n",
        "print('The categorical variables are :', categorical)"
      ]
    },
    {
      "cell_type": "code",
      "execution_count": 225,
      "metadata": {
        "colab": {
          "base_uri": "https://localhost:8080/"
        },
        "id": "An2UcStytLpr",
        "outputId": "33a9480a-94c6-41b7-b732-e275ccf9773c"
      },
      "outputs": [
        {
          "data": {
            "text/plain": [
              "L    3001\n",
              "M    1500\n",
              "H     499\n",
              "Name: Type, dtype: int64"
            ]
          },
          "execution_count": 225,
          "metadata": {},
          "output_type": "execute_result"
        }
      ],
      "source": [
        "# check frequency distribution of values in Type variable\n",
        "\n",
        "df.Type.value_counts()"
      ]
    },
    {
      "cell_type": "code",
      "execution_count": 226,
      "metadata": {
        "colab": {
          "base_uri": "https://localhost:8080/",
          "height": 206
        },
        "id": "6gAT94xyuMBZ",
        "outputId": "2259f61e-dde1-4056-eaa5-5011abb16fec"
      },
      "outputs": [
        {
          "data": {
            "text/html": [
              "\n",
              "  <div id=\"df-a6a5756b-b420-4bf4-88e1-7db0e97a5bab\">\n",
              "    <div class=\"colab-df-container\">\n",
              "      <div>\n",
              "<style scoped>\n",
              "    .dataframe tbody tr th:only-of-type {\n",
              "        vertical-align: middle;\n",
              "    }\n",
              "\n",
              "    .dataframe tbody tr th {\n",
              "        vertical-align: top;\n",
              "    }\n",
              "\n",
              "    .dataframe thead th {\n",
              "        text-align: right;\n",
              "    }\n",
              "</style>\n",
              "<table border=\"1\" class=\"dataframe\">\n",
              "  <thead>\n",
              "    <tr style=\"text-align: right;\">\n",
              "      <th></th>\n",
              "      <th>L</th>\n",
              "      <th>M</th>\n",
              "    </tr>\n",
              "  </thead>\n",
              "  <tbody>\n",
              "    <tr>\n",
              "      <th>0</th>\n",
              "      <td>1</td>\n",
              "      <td>0</td>\n",
              "    </tr>\n",
              "    <tr>\n",
              "      <th>1</th>\n",
              "      <td>1</td>\n",
              "      <td>0</td>\n",
              "    </tr>\n",
              "    <tr>\n",
              "      <th>2</th>\n",
              "      <td>1</td>\n",
              "      <td>0</td>\n",
              "    </tr>\n",
              "    <tr>\n",
              "      <th>3</th>\n",
              "      <td>1</td>\n",
              "      <td>0</td>\n",
              "    </tr>\n",
              "    <tr>\n",
              "      <th>4</th>\n",
              "      <td>1</td>\n",
              "      <td>0</td>\n",
              "    </tr>\n",
              "  </tbody>\n",
              "</table>\n",
              "</div>\n",
              "      <button class=\"colab-df-convert\" onclick=\"convertToInteractive('df-a6a5756b-b420-4bf4-88e1-7db0e97a5bab')\"\n",
              "              title=\"Convert this dataframe to an interactive table.\"\n",
              "              style=\"display:none;\">\n",
              "        \n",
              "  <svg xmlns=\"http://www.w3.org/2000/svg\" height=\"24px\"viewBox=\"0 0 24 24\"\n",
              "       width=\"24px\">\n",
              "    <path d=\"M0 0h24v24H0V0z\" fill=\"none\"/>\n",
              "    <path d=\"M18.56 5.44l.94 2.06.94-2.06 2.06-.94-2.06-.94-.94-2.06-.94 2.06-2.06.94zm-11 1L8.5 8.5l.94-2.06 2.06-.94-2.06-.94L8.5 2.5l-.94 2.06-2.06.94zm10 10l.94 2.06.94-2.06 2.06-.94-2.06-.94-.94-2.06-.94 2.06-2.06.94z\"/><path d=\"M17.41 7.96l-1.37-1.37c-.4-.4-.92-.59-1.43-.59-.52 0-1.04.2-1.43.59L10.3 9.45l-7.72 7.72c-.78.78-.78 2.05 0 2.83L4 21.41c.39.39.9.59 1.41.59.51 0 1.02-.2 1.41-.59l7.78-7.78 2.81-2.81c.8-.78.8-2.07 0-2.86zM5.41 20L4 18.59l7.72-7.72 1.47 1.35L5.41 20z\"/>\n",
              "  </svg>\n",
              "      </button>\n",
              "      \n",
              "  <style>\n",
              "    .colab-df-container {\n",
              "      display:flex;\n",
              "      flex-wrap:wrap;\n",
              "      gap: 12px;\n",
              "    }\n",
              "\n",
              "    .colab-df-convert {\n",
              "      background-color: #E8F0FE;\n",
              "      border: none;\n",
              "      border-radius: 50%;\n",
              "      cursor: pointer;\n",
              "      display: none;\n",
              "      fill: #1967D2;\n",
              "      height: 32px;\n",
              "      padding: 0 0 0 0;\n",
              "      width: 32px;\n",
              "    }\n",
              "\n",
              "    .colab-df-convert:hover {\n",
              "      background-color: #E2EBFA;\n",
              "      box-shadow: 0px 1px 2px rgba(60, 64, 67, 0.3), 0px 1px 3px 1px rgba(60, 64, 67, 0.15);\n",
              "      fill: #174EA6;\n",
              "    }\n",
              "\n",
              "    [theme=dark] .colab-df-convert {\n",
              "      background-color: #3B4455;\n",
              "      fill: #D2E3FC;\n",
              "    }\n",
              "\n",
              "    [theme=dark] .colab-df-convert:hover {\n",
              "      background-color: #434B5C;\n",
              "      box-shadow: 0px 1px 3px 1px rgba(0, 0, 0, 0.15);\n",
              "      filter: drop-shadow(0px 1px 2px rgba(0, 0, 0, 0.3));\n",
              "      fill: #FFFFFF;\n",
              "    }\n",
              "  </style>\n",
              "\n",
              "      <script>\n",
              "        const buttonEl =\n",
              "          document.querySelector('#df-a6a5756b-b420-4bf4-88e1-7db0e97a5bab button.colab-df-convert');\n",
              "        buttonEl.style.display =\n",
              "          google.colab.kernel.accessAllowed ? 'block' : 'none';\n",
              "\n",
              "        async function convertToInteractive(key) {\n",
              "          const element = document.querySelector('#df-a6a5756b-b420-4bf4-88e1-7db0e97a5bab');\n",
              "          const dataTable =\n",
              "            await google.colab.kernel.invokeFunction('convertToInteractive',\n",
              "                                                     [key], {});\n",
              "          if (!dataTable) return;\n",
              "\n",
              "          const docLinkHtml = 'Like what you see? Visit the ' +\n",
              "            '<a target=\"_blank\" href=https://colab.research.google.com/notebooks/data_table.ipynb>data table notebook</a>'\n",
              "            + ' to learn more about interactive tables.';\n",
              "          element.innerHTML = '';\n",
              "          dataTable['output_type'] = 'display_data';\n",
              "          await google.colab.output.renderOutput(dataTable, element);\n",
              "          const docLink = document.createElement('div');\n",
              "          docLink.innerHTML = docLinkHtml;\n",
              "          element.appendChild(docLink);\n",
              "        }\n",
              "      </script>\n",
              "    </div>\n",
              "  </div>\n",
              "  "
            ],
            "text/plain": [
              "   L  M\n",
              "0  1  0\n",
              "1  1  0\n",
              "2  1  0\n",
              "3  1  0\n",
              "4  1  0"
            ]
          },
          "execution_count": 226,
          "metadata": {},
          "output_type": "execute_result"
        }
      ],
      "source": [
        "# do One Hot Encoding of Type variable\n",
        "# preview the dataset with head() method\n",
        "\n",
        "pd.get_dummies(df.Type,drop_first=True).head()\n"
      ]
    },
    {
      "cell_type": "code",
      "execution_count": 197,
      "metadata": {
        "colab": {
          "base_uri": "https://localhost:8080/"
        },
        "id": "mCR5lzaRoF72",
        "outputId": "4df30a17-6197-4c39-b5ae-c4ca5d3c5e31"
      },
      "outputs": [
        {
          "name": "stdout",
          "output_type": "stream",
          "text": [
            "There are 6 numerical variables\n",
            "\n",
            "The numerical variables are : ['Air.temperature', 'Process.temperature', 'Rotational.speed', 'Torque', 'Tool.wear', 'Machine.failure']\n"
          ]
        }
      ],
      "source": [
        "# find numerical variables\n",
        "\n",
        "numerical = [var for var in df.columns if df[var].dtype!='O']\n",
        "\n",
        "print('There are {} numerical variables\\n'.format(len(numerical)))\n",
        "\n",
        "print('The numerical variables are :', numerical)"
      ]
    },
    {
      "cell_type": "code",
      "execution_count": 198,
      "metadata": {
        "colab": {
          "base_uri": "https://localhost:8080/"
        },
        "id": "YW8zx48FoOCk",
        "outputId": "a05c025b-1be4-4604-fc39-41b26f4e0d57"
      },
      "outputs": [
        {
          "name": "stdout",
          "output_type": "stream",
          "text": [
            "       Air.temperature  Process.temperature  Rotational.speed  Torque  \\\n",
            "count           5000.0               5000.0            5000.0  5000.0   \n",
            "mean             300.0                310.0            1539.0    40.0   \n",
            "std                2.0                  1.0             181.0    10.0   \n",
            "min              295.0                306.0            1168.0     4.0   \n",
            "25%              298.0                309.0            1423.0    33.0   \n",
            "50%              300.0                310.0            1502.0    40.0   \n",
            "75%              302.0                311.0            1610.0    47.0   \n",
            "max              304.0                314.0            2886.0    76.0   \n",
            "\n",
            "       Tool.wear  Machine.failure  \n",
            "count     5000.0           5000.0  \n",
            "mean       109.0              0.0  \n",
            "std         64.0              0.0  \n",
            "min          0.0              0.0  \n",
            "25%         55.0              0.0  \n",
            "50%        109.0              0.0  \n",
            "75%        163.0              0.0  \n",
            "max        253.0              1.0   2\n"
          ]
        }
      ],
      "source": [
        "# view summary statistics in numerical variables\n",
        "\n",
        "print(round(df[numerical].describe()),2)"
      ]
    },
    {
      "cell_type": "code",
      "execution_count": 199,
      "metadata": {
        "colab": {
          "base_uri": "https://localhost:8080/",
          "height": 449
        },
        "id": "I0L6bAYXqs-N",
        "outputId": "df6f34d7-6658-4c24-9cd6-1c241fe02e8d"
      },
      "outputs": [
        {
          "data": {
            "text/plain": [
              "Text(0, 0.5, 'Tool.wear')"
            ]
          },
          "execution_count": 199,
          "metadata": {},
          "output_type": "execute_result"
        },
        {
          "data": {
            "image/png": "[encoded data removed]",
            "text/plain": [
              "<Figure size 640x480 with 5 Axes>"
            ]
          },
          "metadata": {},
          "output_type": "display_data"
        }
      ],
      "source": [
        "# draw boxplot to visualize outliers\n",
        "\n",
        "plt.subplot(2, 3, 1)\n",
        "fig = df.boxplot(column='Air.temperature')\n",
        "fig.set_title('')\n",
        "fig.set_ylabel('Air.temperature')\n",
        "\n",
        "\n",
        "plt.subplot(2, 3, 2)\n",
        "fig = df.boxplot(column='Process.temperature')\n",
        "fig.set_title('')\n",
        "fig.set_ylabel('Process.temperature')\n",
        "\n",
        "\n",
        "plt.subplot(2, 3, 3)\n",
        "fig = df.boxplot(column='Rotational.speed')\n",
        "fig.set_title('')\n",
        "fig.set_ylabel('Rotational.speed')\n",
        "\n",
        "\n",
        "plt.subplot(2, 3, 4)\n",
        "fig = df.boxplot(column='Torque')\n",
        "fig.set_title('')\n",
        "fig.set_ylabel('Torque')\n",
        "\n",
        "plt.subplot(2, 3, 5)\n",
        "fig = df.boxplot(column='Tool.wear')\n",
        "fig.set_ylabel('Tool.wear')"
      ]
    },
    {
      "cell_type": "code",
      "execution_count": 200,
      "metadata": {
        "colab": {
          "base_uri": "https://localhost:8080/"
        },
        "id": "y240yxBR-NY7",
        "outputId": "c65b2104-7984-4239-9b7c-4976d0d1187a"
      },
      "outputs": [
        {
          "name": "stdout",
          "output_type": "stream",
          "text": [
            "Rotational.speed outliers are values < 862.0 or > 2171.0\n"
          ]
        }
      ],
      "source": [
        "# find outliers for Rotational.speed variable\n",
        "\n",
        "IQR = df[\"Rotational.speed\"].quantile(0.75) - df[\"Rotational.speed\"].quantile(0.25)\n",
        "Lower_fence = df[\"Rotational.speed\"].quantile(0.25) - (IQR * 3)\n",
        "Upper_fence = df[\"Rotational.speed\"].quantile(0.75) + (IQR * 3)\n",
        "print('Rotational.speed outliers are values < {lowerboundary} or > {upperboundary}'.format(lowerboundary=Lower_fence, upperboundary=Upper_fence))"
      ]
    },
    {
      "cell_type": "code",
      "execution_count": 201,
      "metadata": {
        "colab": {
          "base_uri": "https://localhost:8080/"
        },
        "id": "YglvJMB3-1E5",
        "outputId": "f1d5a9c6-e1f0-4515-ac8b-851a1af64bc0"
      },
      "outputs": [
        {
          "name": "stdout",
          "output_type": "stream",
          "text": [
            "Rotational.speed outliers are values < -6.20000000000001 or > 86.20000000000002\n"
          ]
        }
      ],
      "source": [
        "# find outliers for Torque variable\n",
        "\n",
        "IQR = df.Torque.quantile(0.75) - df.Torque.quantile(0.25)\n",
        "Lower_fence = df.Torque.quantile(0.25) - (IQR * 3)\n",
        "Upper_fence = df.Torque.quantile(0.75) + (IQR * 3)\n",
        "print('Rotational.speed outliers are values < {lowerboundary} or > {upperboundary}'.format(lowerboundary=Lower_fence, upperboundary=Upper_fence))"
      ]
    },
    {
      "cell_type": "code",
      "execution_count": 202,
      "metadata": {
        "colab": {
          "base_uri": "https://localhost:8080/",
          "height": 448
        },
        "id": "63o7kZJ5l5Ts",
        "outputId": "ea2915c6-24eb-4824-8f5e-fc0deb19042f"
      },
      "outputs": [
        {
          "data": {
            "text/plain": [
              "(array([0, 1]), [Text(0, 0, '0'), Text(1, 0, '1')])"
            ]
          },
          "execution_count": 202,
          "metadata": {},
          "output_type": "execute_result"
        },
        {
          "data": {
            "image/png": "[encoded data removed]",
            "text/plain": [
              "<Figure size 640x480 with 1 Axes>"
            ]
          },
          "metadata": {},
          "output_type": "display_data"
        }
      ],
      "source": [
        "# Data visualization : distribution of the variable \"Machine.failure\"\n",
        "ax = df['Machine.failure'].value_counts().plot(kind='bar')\n",
        "plt.xticks(rotation=360)"
      ]
    },
    {
      "cell_type": "code",
      "execution_count": 203,
      "metadata": {
        "colab": {
          "base_uri": "https://localhost:8080/"
        },
        "id": "D1IIfh4Yu2t1",
        "outputId": "41bd6187-320e-4831-bd5e-f875edd4023d"
      },
      "outputs": [
        {
          "name": "stdout",
          "output_type": "stream",
          "text": [
            "0    4841\n",
            "1     159\n",
            "Name: Machine.failure, dtype: int64\n",
            "\n",
            "Proportion of 0 in the dataset : 96.8%\n",
            "Proportion of 1 in the dataset : 3.2%\n"
          ]
        }
      ],
      "source": [
        "# Distribution of the variable \"Machine.failure\"\n",
        "\n",
        "print(df['Machine.failure'].value_counts().rename(index = {'0':'not failed :', '1':'failed :'}))\n",
        "\n",
        "print(f\"\\nProportion of 0 in the dataset : {round(df['Machine.failure'].value_counts(1)[0]*100, 1)}%\")\n",
        "print(f\"Proportion of 1 in the dataset : {round(df['Machine.failure'].value_counts(1)[1]*100, 1)}%\")\n",
        "\n",
        "# We can see that the sample is not balanced"
      ]
    },
    {
      "cell_type": "code",
      "execution_count": 227,
      "metadata": {
        "id": "MQ3JDlvexl6a"
      },
      "outputs": [],
      "source": [
        "#declare feature vector and target variable\n",
        "X = df.drop(['Machine.failure'], axis=1)\n",
        "y = df['Machine.failure']\n",
        " \n",
        "X_train, X_test, y_train, y_test = train_test_split(X, y, test_size=0.2, random_state=0)"
      ]
    },
    {
      "cell_type": "code",
      "execution_count": 228,
      "metadata": {
        "colab": {
          "base_uri": "https://localhost:8080/"
        },
        "id": "ueF6558g3RGI",
        "outputId": "2614dd69-c6a9-4cf2-f95d-7f3e3a0ed680"
      },
      "outputs": [
        {
          "name": "stdout",
          "output_type": "stream",
          "text": [
            "Proportional distribution of positive and negative samples in the training set before oversampling:\n",
            "0    3870\n",
            "1     130\n",
            "Name: Machine.failure, dtype: int64\n",
            "0    0.9675\n",
            "1    0.0325\n",
            "Name: Machine.failure, dtype: float64\n",
            "-------------------------------------------\n",
            "Proportional distribution of positive and negative samples in the training set before oversampling:\n",
            "0    3870\n",
            "1    3870\n",
            "Name: Machine.failure, dtype: int64\n",
            "0    0.5\n",
            "1    0.5\n",
            "Name: Machine.failure, dtype: float64\n"
          ]
        }
      ],
      "source": [
        "# to balance the sample\n",
        "# using SMOTE to do oversampling \n",
        "X_train = pd.get_dummies(X_train, columns=['Type'], drop_first=True)\n",
        "X_test = pd.get_dummies(X_test, columns=['Type'], drop_first=True)\n",
        "\n",
        "print('Proportional distribution of positive and negative samples in the training set before oversampling:')\n",
        "print(y_train.value_counts())\n",
        "print(y_train.value_counts()/len(y_train))\n",
        "\n",
        "os = SMOTE(random_state=0)\n",
        "os_data_X, os_data_y = os.fit_resample(X_train, y_train)\n",
        "\n",
        "os_data_X = pd.DataFrame(data=os_data_X, columns=X_train.columns)\n",
        "os_data_y = pd.DataFrame(data=os_data_y, columns=['Machine.failure'])\n",
        "\n",
        "print('-------------------------------------------')\n",
        "print('Proportional distribution of positive and negative samples in the training set before oversampling:')\n",
        "print(os_data_y['Machine.failure'].value_counts())\n",
        "print(os_data_y['Machine.failure'].value_counts()/len(os_data_y))\n"
      ]
    },
    {
      "cell_type": "code",
      "execution_count": 229,
      "metadata": {
        "id": "DebY2e_y34-V"
      },
      "outputs": [],
      "source": [
        "#Standardization of features\n",
        "\n",
        "scaler = StandardScaler()\n",
        "\n",
        "X_train = scaler.fit_transform(X_train)\n",
        "\n",
        "X_test = scaler.transform(X_test)"
      ]
    },
    {
      "attachments": {},
      "cell_type": "markdown",
      "metadata": {
        "id": "r0h1Jq5N424J"
      },
      "source": [
        "# Model Building"
      ]
    },
    {
      "cell_type": "code",
      "execution_count": 232,
      "metadata": {
        "id": "awhwrs7I5F6B"
      },
      "outputs": [],
      "source": [
        "# Some basic classification algorithms\n",
        "models = []\n",
        "models.append(('LR', LogisticRegression(max_iter=1000))) # Logistic regression\n",
        "models.append(('CART', DecisionTreeClassifier())) # Decision tree\n",
        "models.append(('NB', GaussianNB())) # Gaussian Naïve Bayes\n",
        "models.append(('SVM', SVC())) # Support Vector Machine\n",
        "models.append(('NN', MLPClassifier())) # Neural Network\n",
        "models.append(('GBM', GradientBoostingClassifier())) # Gradient Boosting\n",
        "models.append(('RF', RandomForestClassifier())) # Random forest"
      ]
    },
    {
      "cell_type": "code",
      "execution_count": 208,
      "metadata": {
        "colab": {
          "base_uri": "https://localhost:8080/"
        },
        "id": "TBenyf_I7hM9",
        "outputId": "c84306c4-bfd9-4eec-8572-cbae4fa528ba"
      },
      "outputs": [
        {
          "name": "stdout",
          "output_type": "stream",
          "text": [
            "LR : 0.970000 (0.006423)\n",
            "CART : 0.972750 (0.010455)\n",
            "NB : 0.960250 (0.009114)\n",
            "SVM : 0.968500 (0.008155)\n",
            "NN : 0.976500 (0.008529)\n",
            "GBM : 0.982000 (0.008718)\n",
            "RF : 0.978500 (0.008000)\n"
          ]
        }
      ],
      "source": [
        "# Test these learning classifier models in terms of accuracy\n",
        "scoring = 'accuracy' # Accuracy = (TP+TN)/(P+N)\n",
        "\n",
        "# Test options for classification\n",
        "num_folds = 10\n",
        "seed = 2\n",
        "\n",
        "# Test different models of classification\n",
        "results = []\n",
        "names = []\n",
        "\n",
        "for name, model in models:\n",
        "    kfold = KFold(n_splits=num_folds, shuffle=True, random_state=seed) # Split the data into 10 equally sized folds\n",
        "    cv_results = cross_val_score(model, X_train, y_train, cv=kfold, scoring=scoring) # Evaluate the performance of each model using the accuracy metric\n",
        "    results.append(cv_results)\n",
        "    names.append(name)\n",
        "    msg = \"%s : %f (%f)\" % (name, cv_results.mean(), cv_results.std()) # Display the name of the model, the mean and standard deviation of the cross-validation results\n",
        "    print(msg)"
      ]
    },
    {
      "cell_type": "code",
      "execution_count": 239,
      "metadata": {
        "colab": {
          "base_uri": "https://localhost:8080/"
        },
        "id": "H4WW7cyyL4zh",
        "outputId": "d9146814-0043-455e-c55e-c4f3a207808a"
      },
      "outputs": [
        {
          "name": "stdout",
          "output_type": "stream",
          "text": [
            "LogisticRegression\n",
            "Training set score: 0.9705\n",
            "Test set score: 0.9750\n",
            "\n",
            "DecisionTreeClassifier\n",
            "Training set score: 1.0000\n",
            "Test set score: 0.9750\n",
            "\n",
            "GaussianNB\n",
            "Training set score: 0.9607\n",
            "Test set score: 0.9660\n",
            "\n",
            "SVC\n",
            "Training set score: 0.9722\n",
            "Test set score: 0.9730\n",
            "\n",
            "MLPClassifier\n",
            "Training set score: 0.9812\n",
            "Test set score: 0.9780\n",
            "\n",
            "GradientBoostingClassifier\n",
            "Training set score: 0.9932\n",
            "Test set score: 0.9830\n",
            "\n",
            "RandomForestClassifier\n",
            "Training set score: 1.0000\n",
            "Test set score: 0.9820\n",
            "\n"
          ]
        }
      ],
      "source": [
        "# Check for overfitting and underfitting\n",
        "# print the scores on training and test set\n",
        "for name,model in models:\n",
        "    model.fit(X_train, y_train)\n",
        "    train_score = model.score(X_train, y_train)\n",
        "    test_score = model.score(X_test, y_test)\n",
        "    print(type(model).__name__)\n",
        "    print('Training set score: {:.4f}'.format(train_score))\n",
        "    print('Test set score: {:.4f}'.format(test_score))\n",
        "    print()"
      ]
    },
    {
      "attachments": {},
      "cell_type": "markdown",
      "metadata": {
        "id": "_RJlJ1PnJh4J"
      },
      "source": [
        "The accuracy scores for different classification models are:\n",
        "\n",
        "*   Logistic Regression (LR): 0.970000 (0.006423)\n",
        "*   Classification and Regression Trees (CART): 0.972750 (0.010455)\n",
        "*   Naive Bayes (NB): 0.960250 (0.009114)\n",
        "*   Support Vector Machines (SVM): 0.968500 (0.008155)\n",
        "*   Neural Network (NN): 0.976500 (0.008529)\n",
        "*   Gradient Boosting Machine (GBM): 0.982000 (0.008718)\n",
        "*   Random Forest (RF): 0.978500 (0.008000)\n",
        "\n",
        "Based on the accuracy scores, the Gradient Boosting Machine (GBM) has the highest accuracy score of 0.982000, followed by Random Forest (RF) with an accuracy score of 0.978500, and then follow by Neutral Network with an accuracy score of 0.976500 Logistic regression with an accuracy socre of 0.970000.\n",
        "\n",
        "However, since MLPClassifierGradient Boosting Machine, Random Forest and Neutral Network models are slightly overfitting the data, because the training set score is higher than the test set score.\n",
        "\n",
        "So, focus on the Logistic regression model.\n"
      ]
    },
    {
      "attachments": {},
      "cell_type": "markdown",
      "metadata": {
        "id": "g4_pdgAKBDzI"
      },
      "source": [
        "**Model Evalation**"
      ]
    },
    {
      "cell_type": "code",
      "execution_count": 241,
      "metadata": {
        "colab": {
          "base_uri": "https://localhost:8080/",
          "height": 75
        },
        "id": "7BiU9EoFOB4F",
        "outputId": "18e11cd6-48c5-4dc6-d160-0636b011db5b"
      },
      "outputs": [
        {
          "data": {
            "text/html": [
              "<style>#sk-container-id-1 {color: black;background-color: white;}#sk-container-id-1 pre{padding: 0;}#sk-container-id-1 div.sk-toggleable {background-color: white;}#sk-container-id-1 label.sk-toggleable__label {cursor: pointer;display: block;width: 100%;margin-bottom: 0;padding: 0.3em;box-sizing: border-box;text-align: center;}#sk-container-id-1 label.sk-toggleable__label-arrow:before {content: \"▸\";float: left;margin-right: 0.25em;color: #696969;}#sk-container-id-1 label.sk-toggleable__label-arrow:hover:before {color: black;}#sk-container-id-1 div.sk-estimator:hover label.sk-toggleable__label-arrow:before {color: black;}#sk-container-id-1 div.sk-toggleable__content {max-height: 0;max-width: 0;overflow: hidden;text-align: left;background-color: #f0f8ff;}#sk-container-id-1 div.sk-toggleable__content pre {margin: 0.2em;color: black;border-radius: 0.25em;background-color: #f0f8ff;}#sk-container-id-1 input.sk-toggleable__control:checked~div.sk-toggleable__content {max-height: 200px;max-width: 100%;overflow: auto;}#sk-container-id-1 input.sk-toggleable__control:checked~label.sk-toggleable__label-arrow:before {content: \"▾\";}#sk-container-id-1 div.sk-estimator input.sk-toggleable__control:checked~label.sk-toggleable__label {background-color: #d4ebff;}#sk-container-id-1 div.sk-label input.sk-toggleable__control:checked~label.sk-toggleable__label {background-color: #d4ebff;}#sk-container-id-1 input.sk-hidden--visually {border: 0;clip: rect(1px 1px 1px 1px);clip: rect(1px, 1px, 1px, 1px);height: 1px;margin: -1px;overflow: hidden;padding: 0;position: absolute;width: 1px;}#sk-container-id-1 div.sk-estimator {font-family: monospace;background-color: #f0f8ff;border: 1px dotted black;border-radius: 0.25em;box-sizing: border-box;margin-bottom: 0.5em;}#sk-container-id-1 div.sk-estimator:hover {background-color: #d4ebff;}#sk-container-id-1 div.sk-parallel-item::after {content: \"\";width: 100%;border-bottom: 1px solid gray;flex-grow: 1;}#sk-container-id-1 div.sk-label:hover label.sk-toggleable__label {background-color: #d4ebff;}#sk-container-id-1 div.sk-serial::before {content: \"\";position: absolute;border-left: 1px solid gray;box-sizing: border-box;top: 0;bottom: 0;left: 50%;z-index: 0;}#sk-container-id-1 div.sk-serial {display: flex;flex-direction: column;align-items: center;background-color: white;padding-right: 0.2em;padding-left: 0.2em;position: relative;}#sk-container-id-1 div.sk-item {position: relative;z-index: 1;}#sk-container-id-1 div.sk-parallel {display: flex;align-items: stretch;justify-content: center;background-color: white;position: relative;}#sk-container-id-1 div.sk-item::before, #sk-container-id-1 div.sk-parallel-item::before {content: \"\";position: absolute;border-left: 1px solid gray;box-sizing: border-box;top: 0;bottom: 0;left: 50%;z-index: -1;}#sk-container-id-1 div.sk-parallel-item {display: flex;flex-direction: column;z-index: 1;position: relative;background-color: white;}#sk-container-id-1 div.sk-parallel-item:first-child::after {align-self: flex-end;width: 50%;}#sk-container-id-1 div.sk-parallel-item:last-child::after {align-self: flex-start;width: 50%;}#sk-container-id-1 div.sk-parallel-item:only-child::after {width: 0;}#sk-container-id-1 div.sk-dashed-wrapped {border: 1px dashed gray;margin: 0 0.4em 0.5em 0.4em;box-sizing: border-box;padding-bottom: 0.4em;background-color: white;}#sk-container-id-1 div.sk-label label {font-family: monospace;font-weight: bold;display: inline-block;line-height: 1.2em;}#sk-container-id-1 div.sk-label-container {text-align: center;}#sk-container-id-1 div.sk-container {/* jupyter's `normalize.less` sets `[hidden] { display: none; }` but bootstrap.min.css set `[hidden] { display: none !important; }` so we also need the `!important` here to be able to override the default hidden behavior on the sphinx rendered scikit-learn.org. See: https://github.com/scikit-learn/scikit-learn/issues/21755 */display: inline-block !important;position: relative;}#sk-container-id-1 div.sk-text-repr-fallback {display: none;}</style><div id=\"sk-container-id-1\" class=\"sk-top-container\"><div class=\"sk-text-repr-fallback\"><pre>LogisticRegression(max_iter=1000)</pre><b>In a Jupyter environment, please rerun this cell to show the HTML representation or trust the notebook. <br />On GitHub, the HTML representation is unable to render, please try loading this page with nbviewer.org.</b></div><div class=\"sk-container\" hidden><div class=\"sk-item\"><div class=\"sk-estimator sk-toggleable\"><input class=\"sk-toggleable__control sk-hidden--visually\" id=\"sk-estimator-id-1\" type=\"checkbox\" checked><label for=\"sk-estimator-id-1\" class=\"sk-toggleable__label sk-toggleable__label-arrow\">LogisticRegression</label><div class=\"sk-toggleable__content\"><pre>LogisticRegression(max_iter=1000)</pre></div></div></div></div></div>"
            ],
            "text/plain": [
              "LogisticRegression(max_iter=1000)"
            ]
          },
          "execution_count": 241,
          "metadata": {},
          "output_type": "execute_result"
        }
      ],
      "source": [
        "# Focus one Logistic Regression\n",
        "model = LogisticRegression(max_iter=1000)\n",
        "model.fit(X_train, y_train)"
      ]
    },
    {
      "cell_type": "code",
      "execution_count": 242,
      "metadata": {
        "colab": {
          "base_uri": "https://localhost:8080/"
        },
        "id": "fvU6BHKXApJG",
        "outputId": "36675607-b25d-47f9-c2c4-a30642aee586"
      },
      "outputs": [
        {
          "name": "stdout",
          "output_type": "stream",
          "text": [
            "Accuracy : 0.975\n",
            "\n",
            "\n",
            "              precision    recall  f1-score   support\n",
            "\n",
            "           0       0.98      1.00      0.99       971\n",
            "           1       0.75      0.21      0.32        29\n",
            "\n",
            "    accuracy                           0.97      1000\n",
            "   macro avg       0.86      0.60      0.66      1000\n",
            "weighted avg       0.97      0.97      0.97      1000\n",
            "\n"
          ]
        }
      ],
      "source": [
        "# Estimate accuracy on validation set\n",
        "predictions = model.predict(X_test)\n",
        "\n",
        "print(f\"Accuracy : {accuracy_score(y_test, predictions)}\")\n",
        "print(\"\\n\")\n",
        "print(classification_report(y_test, predictions))\n"
      ]
    },
    {
      "cell_type": "code",
      "execution_count": 243,
      "metadata": {
        "colab": {
          "base_uri": "https://localhost:8080/"
        },
        "id": "pJUKCEfLBwLD",
        "outputId": "5d87b104-d241-49c6-d287-80d8c15d9a4b"
      },
      "outputs": [
        {
          "name": "stdout",
          "output_type": "stream",
          "text": [
            "Confusion matrix\n",
            "\n",
            " [[969   2]\n",
            " [ 23   6]]\n",
            "\n",
            "True Positives(TP) =  969\n",
            "\n",
            "True Negatives(TN) =  6\n",
            "\n",
            "False Positives(FP) =  2\n",
            "\n",
            "False Negatives(FN) =  23\n"
          ]
        }
      ],
      "source": [
        "# Confusion matrix\n",
        "cm = confusion_matrix(y_test, predictions)\n",
        "\n",
        "print('Confusion matrix\\n\\n', cm)\n",
        "\n",
        "print('\\nTrue Positives(TP) = ', cm[0,0])\n",
        "\n",
        "print('\\nTrue Negatives(TN) = ', cm[1,1])\n",
        "\n",
        "print('\\nFalse Positives(FP) = ', cm[0,1])\n",
        "\n",
        "print('\\nFalse Negatives(FN) = ', cm[1,0])"
      ]
    },
    {
      "cell_type": "code",
      "execution_count": 244,
      "metadata": {
        "colab": {
          "base_uri": "https://localhost:8080/",
          "height": 448
        },
        "id": "dhL_svzGEt79",
        "outputId": "48b83980-6a11-439b-8983-75db81badaba"
      },
      "outputs": [
        {
          "data": {
            "text/plain": [
              "<Axes: >"
            ]
          },
          "execution_count": 244,
          "metadata": {},
          "output_type": "execute_result"
        },
        {
          "data": {
            "image/png": "[encoded data removed]",
            "text/plain": [
              "<Figure size 640x480 with 2 Axes>"
            ]
          },
          "metadata": {},
          "output_type": "display_data"
        }
      ],
      "source": [
        "# visualize confusion matrix with seaborn heatmap\n",
        "\n",
        "cm_matrix = pd.DataFrame(data=cm, columns=['Actual Positive:0', 'Actual Negative:1'], \n",
        "                                 index=['Predict Positive:0', 'Predict Negative:1'])\n",
        "\n",
        "sns.heatmap(cm_matrix, annot=True, fmt='d', cmap='YlGnBu')"
      ]
    },
    {
      "attachments": {},
      "cell_type": "markdown",
      "metadata": {
        "id": "AbGebQ-oOuMU"
      },
      "source": [
        "# Recommendations for machine failure"
      ]
    },
    {
      "cell_type": "code",
      "execution_count": 263,
      "metadata": {
        "colab": {
          "base_uri": "https://localhost:8080/"
        },
        "id": "lezNgoQIOu9I",
        "outputId": "003d3477-ef5f-4c12-83aa-f46942c0a4a2"
      },
      "outputs": [
        {
          "name": "stdout",
          "output_type": "stream",
          "text": [
            "              variable  coefficient\n",
            "0      Air.temperature     0.840894\n",
            "1  Process.temperature    -0.922225\n",
            "2     Rotational.speed     0.010641\n",
            "3               Torque     0.266560\n",
            "4            Tool.wear     0.014375\n",
            "5               Type_L     0.220813\n",
            "6               Type_M    -0.159269\n"
          ]
        }
      ],
      "source": [
        "model = LogisticRegression(max_iter=1000)\n",
        "model.fit(X,y)\n",
        "# Get the coefficients of the logistic regression model\n",
        "coef_df = pd.DataFrame({'variable': X.columns, 'coefficient': model.coef_[0]})\n",
        "\n",
        "# Print the coefficients\n",
        "print(coef_df)"
      ]
    },
    {
      "attachments": {},
      "cell_type": "markdown",
      "metadata": {
        "id": "F9fsVkanTEFY"
      },
      "source": [
        "Based on the coefficients, those variables with the largest coefficients are important, like the Air temperature and Process temperature. \n",
        "And, the air.temperature correlates positively with machine failure, meaning that the higher the temperature the more likely it is to fail. But, the process.temperature is opposite。"
      ]
    }
  ],
  "metadata": {
    "colab": {
      "collapsed_sections": [
        "vClwmQGRFSAA"
      ],
      "provenance": []
    },
    "kernelspec": {
      "display_name": "Python 3",
      "name": "python3"
    },
    "language_info": {
      "name": "python"
    }
  },
  "nbformat": 4,
  "nbformat_minor": 0
}
